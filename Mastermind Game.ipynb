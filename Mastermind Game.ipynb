{
 "cells": [
  {
   "cell_type": "code",
   "execution_count": null,
   "id": "06d4a986",
   "metadata": {},
   "outputs": [
    {
     "name": "stdout",
     "output_type": "stream",
     "text": [
      "Welcome to Mastermind!\n",
      "Try to guess the 4-value sequence with numbers from 1 to 6.\n",
      "Turns left: 12\n"
     ]
    }
   ],
   "source": [
    "import random\n",
    "\n",
    "def generate_random_sequence():\n",
    "    return [random.randint(1, 6) for _ in range(4)]\n",
    "\n",
    "def evaluate_guess(secret_sequence, guess):\n",
    "    result = \"\"\n",
    "    used_indices = set()\n",
    "    \n",
    "    # Check for exact matches (●)\n",
    "    for i in range(4):\n",
    "        if guess[i] == secret_sequence[i]:\n",
    "            result += \"●\"\n",
    "            used_indices.add(i)\n",
    "    \n",
    "    # Check for partial matches (○)\n",
    "    for i in range(4):\n",
    "        if guess[i] != secret_sequence[i] and guess[i] in secret_sequence and i not in used_indices:\n",
    "            result += \"○\"\n",
    "            used_indices.add(i)\n",
    "    \n",
    "    return result\n",
    "\n",
    "def main():\n",
    "    secret_sequence = generate_random_sequence()\n",
    "    turns_left = 12\n",
    "    \n",
    "    print(\"Welcome to Mastermind!\")\n",
    "    print(\"Try to guess the 4-value sequence with numbers from 1 to 6.\")\n",
    "    \n",
    "    while turns_left > 0:\n",
    "        print(f\"Turns left: {turns_left}\")\n",
    "        guess = input(\"Enter your 4-value guess: \")\n",
    "        \n",
    "        # Validate input\n",
    "        if len(guess) != 4 or not all(char.isdigit() and 1 <= int(char) <= 6 for char in guess):\n",
    "            print(\"Invalid input. Please enter exactly 4 values in the range of 1-6.\")\n",
    "            continue\n",
    "        \n",
    "        guess = [int(char) for char in guess]\n",
    "        \n",
    "        result = evaluate_guess(secret_sequence, guess)\n",
    "        print(f\"Result: {result}\")\n",
    "        \n",
    "        if result == \"●●●●\":\n",
    "            print(\"Congratulations! You guessed the correct sequence!\")\n",
    "            break\n",
    "        \n",
    "        turns_left -= 1\n",
    "    \n",
    "    if turns_left == 0:\n",
    "        print(\"You ran out of turns. The correct sequence was:\", secret_sequence)\n",
    "\n",
    "if __name__ == \"__main__\":\n",
    "    main()\n"
   ]
  }
 ],
 "metadata": {
  "kernelspec": {
   "display_name": "Python 3 (ipykernel)",
   "language": "python",
   "name": "python3"
  },
  "language_info": {
   "codemirror_mode": {
    "name": "ipython",
    "version": 3
   },
   "file_extension": ".py",
   "mimetype": "text/x-python",
   "name": "python",
   "nbconvert_exporter": "python",
   "pygments_lexer": "ipython3",
   "version": "3.9.13"
  }
 },
 "nbformat": 4,
 "nbformat_minor": 5
}
